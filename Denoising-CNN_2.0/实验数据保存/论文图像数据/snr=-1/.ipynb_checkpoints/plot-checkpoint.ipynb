{
 "cells": [
  {
   "cell_type": "code",
   "execution_count": 1,
   "id": "11f4524d-5376-4e47-b215-74a07ae81af7",
   "metadata": {},
   "outputs": [],
   "source": [
    "import matplotlib.pyplot as plt\n",
    "import numpy as np\n",
    "import os"
   ]
  },
  {
   "cell_type": "code",
   "execution_count": null,
   "id": "c4c543ed-49e4-4f19-95c1-1b13e09b1694",
   "metadata": {},
   "outputs": [],
   "source": [
    "Clean = list(np.loadtxt(\"Clean.txt\"))\n",
    "Noisy = list(np.loadtxt(\"Noisy.txt\"))\n",
    "DnCNN = list(np.loadtxt(\"DnCNN.txt\"))\n",
    "UDnCNN = list(np.loadtxt(\"UDnCNN.txt\"))\n",
    "\n",
    "DUDnCNN = list(np.loadtxt(\"DUDnCNN.txt\"))\n",
    "FDUDnCNN = list(np.loadtxt(\"FDUDnCNN.txt\"))\n",
    "FDUDnCNN_Improve = list(np.loadtxt(\"FDUDnCNN_Improve.txt\"))\n",
    "FDUDDnCNN = list(np.loadtxt(\"FDUDDnCNN.txt\"))"
   ]
  },
  {
   "cell_type": "code",
   "execution_count": null,
   "id": "ef264d46-88c2-4840-9769-795f3a76a51c",
   "metadata": {
    "tags": []
   },
   "outputs": [],
   "source": [
    "def save_png(title, signal)\n",
    "    fig = plt.figure(figsize=(30, 10))\n",
    "    ax = fig.add_subplot(1,1,1)\n",
    "    plt.xlim(0,2001)\n",
    "    plt.ylim(-1,1)\n",
    "    plt.yticks(np.arange(-1, 1.1, 0.4), size=40)\n",
    "    plt.xticks(range(0, 2001, 400), size=40) # 设置网格跨度为0到100， 间距为20\n",
    "    ax.plot(signal)\n",
    "    plt.savefig(os.path.join(path, \"{}.png\".format(title)), dpi=600)"
   ]
  },
  {
   "cell_type": "code",
   "execution_count": null,
   "id": "d9d05573-cf46-446b-bb24-c6a7b9131fd4",
   "metadata": {},
   "outputs": [],
   "source": []
  }
 ],
 "metadata": {
  "kernelspec": {
   "display_name": "Python 3 (ipykernel)",
   "language": "python",
   "name": "python3"
  },
  "language_info": {
   "codemirror_mode": {
    "name": "ipython",
    "version": 3
   },
   "file_extension": ".py",
   "mimetype": "text/x-python",
   "name": "python",
   "nbconvert_exporter": "python",
   "pygments_lexer": "ipython3",
   "version": "3.9.7"
  }
 },
 "nbformat": 4,
 "nbformat_minor": 5
}
