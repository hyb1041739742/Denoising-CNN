{
 "cells": [
  {
   "cell_type": "code",
   "execution_count": 1,
   "id": "9708d2e7",
   "metadata": {},
   "outputs": [],
   "source": [
    "import numpy as np\n",
    "import torch\n",
    "from torch.utils.data import Dataset, DataLoader\n",
    "from sklearn.preprocessing import MaxAbsScaler\n",
    "import os"
   ]
  },
  {
   "cell_type": "code",
   "execution_count": 2,
   "id": "682c432a",
   "metadata": {},
   "outputs": [],
   "source": [
    "class GetTraindata:\n",
    "    def __init__(self, path):\n",
    "        real_classes = [d for d in os.listdir(os.path.join(path, '真实信号')) if os.path.isfile(os.path.join(path, '真实信号',d))]\n",
    "        simulation_classes = [d for d in os.listdir(os.path.join(path, '模拟信号')) if os.path.isfile(os.path.join(path, '模拟信号',d))]\n",
    "        real_classes.sort(key = lambda x:int(x[0:-4]))\n",
    "        simulation_classes.sort(key = lambda x:int(x[0:-4]))\n",
    "        real_signal = []\n",
    "        simulation_signal = []\n",
    "        for file_path in real_classes:\n",
    "            real_signal.append(np.loadtxt(os.path.join(path, '真实信号', file_path)))\n",
    "        for file_path in simulation_classes:\n",
    "            simulation_signal.append(np.loadtxt(os.path.join(path, '模拟信号', file_path)))\n",
    "            \n",
    "        real_signal = np.array(real_signal)\n",
    "        simulation_signal = np.array(simulation_signal) * 1000\n",
    "        simulation_signal = np.pad(simulation_signal,((0,0),(0,4096 - simulation_signal.shape[-1])),'constant',constant_values = (0,0))\n",
    "        \n",
    "        self.max_abs_scaler = MaxAbsScaler()\n",
    "        data = np.concatenate((real_signal,simulation_signal),axis=0)\n",
    "        self.max_abs_scaler.fit_transform(data)\n",
    "               \n",
    "        real_signal = self.max_abs_scaler.transform(real_signal)\n",
    "        simulation_signal = self.max_abs_scaler.transform(simulation_signal)        \n",
    "        self.real_signal = real_signal[:,np.newaxis,:]\n",
    "        self.simulation_signal = simulation_signal[:,np.newaxis,:]\n",
    "   \n",
    "    def get_scaler(self):       \n",
    "        return self.max_abs_scaler   \n",
    "    \n",
    "    def get_data(self):\n",
    "        return self.real_signal, self.simulation_signal\n",
    "    \n",
    "    def get_origin_data(self, data): # input_size:[*,4096],output_size:[*,4096]\n",
    "        origin_data = self.max_abs_scaler(data)\n",
    "        return origin_data"
   ]
  },
  {
   "cell_type": "code",
   "execution_count": 3,
   "id": "e86bc26e",
   "metadata": {},
   "outputs": [],
   "source": [
    "class GetDataset(Dataset):\n",
    "    def __init__(self, data):\n",
    "        self.data = data\n",
    "    \n",
    "    def __getitem__(self, index):\n",
    "        data = self.data[index]\n",
    "        return torch.Tensor(data)\n",
    "    \n",
    "    def __len__(self):\n",
    "        return len(self.data)"
   ]
  },
  {
   "cell_type": "code",
   "execution_count": 4,
   "id": "5c691479",
   "metadata": {},
   "outputs": [],
   "source": [
    "# # test\n",
    "# Traindata = GetTraindata('data')\n",
    "# real_signal,simulation_signal = Traindata.get_data()\n",
    "# max_abs_scaler = Traindata.get_scaler()\n",
    "# traindataA = GetDataset(real_signal)\n",
    "# traindataB = GetDataset(simulation_signal)\n",
    "# max_abs_scaler.transform(np.ones([1,4096]))"
   ]
  },
  {
   "cell_type": "code",
   "execution_count": null,
   "id": "d01012f9",
   "metadata": {},
   "outputs": [],
   "source": []
  }
 ],
 "metadata": {
  "kernelspec": {
   "display_name": "Python [conda env:pytorch] *",
   "language": "python",
   "name": "conda-env-pytorch-py"
  },
  "language_info": {
   "codemirror_mode": {
    "name": "ipython",
    "version": 3
   },
   "file_extension": ".py",
   "mimetype": "text/x-python",
   "name": "python",
   "nbconvert_exporter": "python",
   "pygments_lexer": "ipython3",
   "version": "3.7.11"
  }
 },
 "nbformat": 4,
 "nbformat_minor": 5
}
