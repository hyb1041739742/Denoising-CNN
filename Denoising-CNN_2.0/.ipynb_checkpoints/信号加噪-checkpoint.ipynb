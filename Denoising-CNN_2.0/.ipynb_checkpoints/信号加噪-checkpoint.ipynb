{
 "cells": [
  {
   "cell_type": "code",
   "execution_count": 3,
   "id": "0c7d5daa-ecf2-44f8-a718-6ce367219f4f",
   "metadata": {},
   "outputs": [],
   "source": [
    "import math \n",
    "import numpy as np"
   ]
  },
  {
   "cell_type": "markdown",
   "id": "39731a35-bbcc-4240-92af-b48610dbf7b2",
   "metadata": {},
   "source": [
    "## 定义加噪函数"
   ]
  },
  {
   "cell_type": "markdown",
   "id": "20bcfcb2-65c6-41a5-9989-038e1f1342d4",
   "metadata": {},
   "source": [
    "$\\mathrm{SNR}=10 \\times \\log _{10}\\left(\\frac{P_{S}}{P_{N}}\\right) | p_s 为信号强度， P_N为噪音强度$"
   ]
  },
  {
   "cell_type": "code",
   "execution_count": 4,
   "id": "8814c517-e11e-4208-9f21-6b4a6fedc8a8",
   "metadata": {},
   "outputs": [],
   "source": [
    "# clean是干净的信号np.array, snr是信噪比\n",
    "def AddNoisy(clean, snr):\n",
    "    x = clean\n",
    "    Nx = len(x)  # 求出信号的长度\n",
    "    noise = np.random.randn(Nx)# 用randn产生正态分布随机数 \n",
    "    signal_power = np.sum(x*x)/Nx# 求信号的平均能量\n",
    "    noise_power = np.sum(noise*noise)/Nx# 求信号的平均能量\n",
    "    noise_variance = signal_power/(math.pow(10., (snr/10)))#计算噪声设定的方差值\n",
    "    noise = math.sqrt(noise_variance/noise_power)*noise# 按照噪声能量构成相应的白噪声\n",
    "    y=x+noise\n",
    "    return y"
   ]
  },
  {
   "cell_type": "code",
   "execution_count": 5,
   "id": "5d393dba-8d08-4445-adb8-bad55949a57d",
   "metadata": {},
   "outputs": [
    {
     "data": {
      "text/plain": [
       "array([  4.09084389, -15.01366922,   3.95249433,   3.72705627])"
      ]
     },
     "execution_count": 5,
     "metadata": {},
     "output_type": "execute_result"
    }
   ],
   "source": [
    "AddNoisy(np.array([1.,2.,3.,4.]), -10)"
   ]
  },
  {
   "cell_type": "markdown",
   "id": "8d426f7c-8edb-4c06-98e2-3dc97796e677",
   "metadata": {},
   "source": [
    "## 读取数据集"
   ]
  },
  {
   "cell_type": "code",
   "execution_count": 6,
   "id": "e00498b1-e8dd-4dec-a354-52323bd7ca0e",
   "metadata": {},
   "outputs": [],
   "source": [
    "import os\n",
    "import matplotlib.pyplot as plt"
   ]
  },
  {
   "cell_type": "code",
   "execution_count": 11,
   "id": "884d1e8d-87b0-478a-91a1-9ad3ff5c68c8",
   "metadata": {},
   "outputs": [],
   "source": [
    "# 定义要加噪的信号比\n",
    "snr = -9"
   ]
  },
  {
   "cell_type": "code",
   "execution_count": 12,
   "id": "1bd70e1d-71a1-461f-adc2-a97bca9cb220",
   "metadata": {},
   "outputs": [],
   "source": [
    "path = r\"C:\\Users\\bbfss\\Desktop\\file\\Code\\github\\Denoising-CNN\\Denoising-CNN_2.0\\dataset\"\n",
    "filenames = []\n",
    "# 读取dataset文件夹下的干净信号txt\n",
    "filenames = os.listdir(os.path.join(path,\"干净信号txt\"))\n",
    "filenames.sort(key = lambda x: int(x[0:-4]))\n",
    "clean_signal = []\n",
    "for filename in filenames:\n",
    "    clean_signal.append(np.loadtxt(os.path.join(path,\"干净信号txt\", filename)))\n",
    "\n",
    "index = 0\n",
    "for signal in clean_signal:\n",
    "    index += 1\n",
    "    noisy = AddNoisy(signal, snr)\n",
    "    os.makedirs(os.path.join(path, \"带噪信号txt\"), exist_ok=True)\n",
    "    with open(os.path.join(path, \"带噪信号txt\")+\"//\"+ str(index)+\".txt\", mode='w') as f:\n",
    "        f.truncate()\n",
    "        for item in noisy:\n",
    "            print(format(item, '.8f'), file=f)"
   ]
  },
  {
   "cell_type": "markdown",
   "id": "4bba091c-1ea5-46f1-91f6-73dce4c1c033",
   "metadata": {},
   "source": [
    "## 看看效果"
   ]
  },
  {
   "cell_type": "code",
   "execution_count": 13,
   "id": "3e8069b7-398e-43a8-bb0e-a2c533ce2695",
   "metadata": {},
   "outputs": [
    {
     "name": "stdout",
     "output_type": "stream",
     "text": [
      "['1.txt', '10.txt', '100.txt', '101.txt', '102.txt', '103.txt', '104.txt', '105.txt', '106.txt', '107.txt', '108.txt', '109.txt', '11.txt', '110.txt', '111.txt', '112.txt', '113.txt', '114.txt', '115.txt', '116.txt', '117.txt', '118.txt', '119.txt', '12.txt', '120.txt', '121.txt', '122.txt', '123.txt', '124.txt', '125.txt', '126.txt', '127.txt', '128.txt', '129.txt', '13.txt', '130.txt', '131.txt', '132.txt', '133.txt', '134.txt', '135.txt', '136.txt', '137.txt', '138.txt', '139.txt', '14.txt', '140.txt', '141.txt', '142.txt', '143.txt', '144.txt', '145.txt', '146.txt', '147.txt', '148.txt', '149.txt', '15.txt', '150.txt', '151.txt', '152.txt', '153.txt', '154.txt', '155.txt', '156.txt', '157.txt', '158.txt', '159.txt', '16.txt', '160.txt', '161.txt', '162.txt', '163.txt', '164.txt', '165.txt', '166.txt', '167.txt', '168.txt', '169.txt', '17.txt', '170.txt', '171.txt', '172.txt', '173.txt', '174.txt', '175.txt', '176.txt', '177.txt', '178.txt', '179.txt', '18.txt', '180.txt', '181.txt', '182.txt', '183.txt', '184.txt', '185.txt', '186.txt', '187.txt', '188.txt', '189.txt', '19.txt', '190.txt', '191.txt', '192.txt', '193.txt', '194.txt', '195.txt', '196.txt', '197.txt', '198.txt', '199.txt', '2.txt', '20.txt', '200.txt', '201.txt', '202.txt', '203.txt', '204.txt', '205.txt', '206.txt', '207.txt', '208.txt', '209.txt', '21.txt', '210.txt', '211.txt', '212.txt', '213.txt', '214.txt', '215.txt', '216.txt', '217.txt', '218.txt', '219.txt', '22.txt', '220.txt', '221.txt', '222.txt', '223.txt', '224.txt', '225.txt', '226.txt', '227.txt', '228.txt', '229.txt', '23.txt', '230.txt', '231.txt', '232.txt', '233.txt', '234.txt', '235.txt', '236.txt', '237.txt', '238.txt', '239.txt', '24.txt', '240.txt', '241.txt', '242.txt', '243.txt', '244.txt', '245.txt', '246.txt', '247.txt', '248.txt', '249.txt', '25.txt', '250.txt', '251.txt', '252.txt', '253.txt', '254.txt', '255.txt', '256.txt', '257.txt', '258.txt', '259.txt', '26.txt', '260.txt', '261.txt', '262.txt', '263.txt', '264.txt', '265.txt', '266.txt', '267.txt', '268.txt', '269.txt', '27.txt', '270.txt', '271.txt', '272.txt', '273.txt', '274.txt', '275.txt', '276.txt', '277.txt', '278.txt', '279.txt', '28.txt', '280.txt', '281.txt', '282.txt', '283.txt', '284.txt', '285.txt', '286.txt', '287.txt', '288.txt', '289.txt', '29.txt', '290.txt', '291.txt', '292.txt', '293.txt', '294.txt', '295.txt', '296.txt', '297.txt', '298.txt', '299.txt', '3.txt', '30.txt', '300.txt', '301.txt', '302.txt', '303.txt', '304.txt', '305.txt', '306.txt', '307.txt', '308.txt', '309.txt', '31.txt', '310.txt', '311.txt', '312.txt', '313.txt', '314.txt', '315.txt', '316.txt', '317.txt', '318.txt', '319.txt', '32.txt', '320.txt', '321.txt', '322.txt', '323.txt', '324.txt', '325.txt', '326.txt', '327.txt', '328.txt', '329.txt', '33.txt', '330.txt', '331.txt', '332.txt', '333.txt', '334.txt', '335.txt', '336.txt', '337.txt', '338.txt', '339.txt', '34.txt', '340.txt', '341.txt', '342.txt', '343.txt', '344.txt', '345.txt', '346.txt', '347.txt', '348.txt', '349.txt', '35.txt', '350.txt', '351.txt', '352.txt', '353.txt', '354.txt', '355.txt', '356.txt', '357.txt', '358.txt', '359.txt', '36.txt', '360.txt', '361.txt', '362.txt', '363.txt', '364.txt', '365.txt', '366.txt', '367.txt', '368.txt', '369.txt', '37.txt', '370.txt', '371.txt', '372.txt', '373.txt', '374.txt', '375.txt', '376.txt', '377.txt', '378.txt', '379.txt', '38.txt', '380.txt', '381.txt', '382.txt', '383.txt', '384.txt', '385.txt', '386.txt', '387.txt', '388.txt', '389.txt', '39.txt', '390.txt', '391.txt', '392.txt', '393.txt', '394.txt', '395.txt', '396.txt', '397.txt', '398.txt', '399.txt', '4.txt', '40.txt', '400.txt', '401.txt', '402.txt', '403.txt', '404.txt', '405.txt', '406.txt', '407.txt', '408.txt', '409.txt', '41.txt', '410.txt', '411.txt', '412.txt', '413.txt', '414.txt', '415.txt', '416.txt', '417.txt', '418.txt', '419.txt', '42.txt', '420.txt', '421.txt', '422.txt', '423.txt', '424.txt', '425.txt', '426.txt', '427.txt', '428.txt', '429.txt', '43.txt', '430.txt', '431.txt', '432.txt', '433.txt', '434.txt', '435.txt', '436.txt', '437.txt', '438.txt', '439.txt', '44.txt', '440.txt', '441.txt', '442.txt', '443.txt', '444.txt', '445.txt', '446.txt', '447.txt', '448.txt', '449.txt', '45.txt', '450.txt', '451.txt', '452.txt', '453.txt', '454.txt', '455.txt', '456.txt', '457.txt', '458.txt', '459.txt', '46.txt', '460.txt', '461.txt', '462.txt', '463.txt', '464.txt', '465.txt', '466.txt', '467.txt', '468.txt', '469.txt', '47.txt', '470.txt', '471.txt', '472.txt', '473.txt', '474.txt', '475.txt', '476.txt', '477.txt', '478.txt', '479.txt', '48.txt', '480.txt', '481.txt', '482.txt', '483.txt', '484.txt', '485.txt', '486.txt', '487.txt', '488.txt', '489.txt', '49.txt', '490.txt', '491.txt', '492.txt', '493.txt', '494.txt', '495.txt', '496.txt', '497.txt', '498.txt', '499.txt', '5.txt', '50.txt', '500.txt', '501.txt', '51.txt', '52.txt', '53.txt', '54.txt', '55.txt', '56.txt', '57.txt', '58.txt', '59.txt', '6.txt', '60.txt', '61.txt', '62.txt', '63.txt', '64.txt', '65.txt', '66.txt', '67.txt', '68.txt', '69.txt', '7.txt', '70.txt', '71.txt', '72.txt', '73.txt', '74.txt', '75.txt', '76.txt', '77.txt', '78.txt', '79.txt', '8.txt', '80.txt', '81.txt', '82.txt', '83.txt', '84.txt', '85.txt', '86.txt', '87.txt', '88.txt', '89.txt', '9.txt', '90.txt', '91.txt', '92.txt', '93.txt', '94.txt', '95.txt', '96.txt', '97.txt', '98.txt', '99.txt']\n"
     ]
    },
    {
     "data": {
      "image/png": "[encoded data removed]",
      "text/plain": [
       "<Figure size 432x288 with 1 Axes>"
      ]
     },
     "metadata": {
      "needs_background": "light"
     },
     "output_type": "display_data"
    }
   ],
   "source": [
    "def GetSignal(path, num):\n",
    "    filenames = os.listdir(path)\n",
    "    filename = filenames[num]\n",
    "    plt.plot(np.loadtxt(os.path.join(path, filename)))\n",
    "\n",
    "path = r\"C:\\Users\\bbfss\\Desktop\\file\\Code\\github\\Denoising-CNN\\Denoising-CNN_2.0\\dataset\\带噪信号txt\"\n",
    "GetSignal(path, 420)\n",
    "print(os.listdir(path))"
   ]
  },
  {
   "cell_type": "code",
   "execution_count": 14,
   "id": "82ad9ffb-6816-495e-82f4-c341c446f463",
   "metadata": {},
   "outputs": [
    {
     "data": {
      "image/png": "[encoded data removed]",
      "text/plain": [
       "<Figure size 432x288 with 1 Axes>"
      ]
     },
     "metadata": {
      "needs_background": "light"
     },
     "output_type": "display_data"
    }
   ],
   "source": [
    "path = r\"C:\\Users\\bbfss\\Desktop\\file\\Code\\github\\Denoising-CNN\\Denoising-CNN_2.0\\dataset\\干净信号txt\"\n",
    "GetSignal(path, 420)"
   ]
  },
  {
   "cell_type": "code",
   "execution_count": null,
   "id": "7a6aa3b0-d98c-4e17-aad1-2f3d94975793",
   "metadata": {},
   "outputs": [],
   "source": []
  },
  {
   "cell_type": "code",
   "execution_count": null,
   "id": "0dc53787-1906-4778-96d1-1be39ea8d7ae",
   "metadata": {},
   "outputs": [],
   "source": []
  },
  {
   "cell_type": "code",
   "execution_count": null,
   "id": "1573ffbc-0803-4094-a295-289bc4bb24f3",
   "metadata": {},
   "outputs": [],
   "source": []
  },
  {
   "cell_type": "code",
   "execution_count": null,
   "id": "930d7023-d95c-45c4-aade-0f52bf37ea32",
   "metadata": {},
   "outputs": [],
   "source": []
  }
 ],
 "metadata": {
  "kernelspec": {
   "display_name": "Python 3 (ipykernel)",
   "language": "python",
   "name": "python3"
  },
  "language_info": {
   "codemirror_mode": {
    "name": "ipython",
    "version": 3
   },
   "file_extension": ".py",
   "mimetype": "text/x-python",
   "name": "python",
   "nbconvert_exporter": "python",
   "pygments_lexer": "ipython3",
   "version": "3.9.7"
  }
 },
 "nbformat": 4,
 "nbformat_minor": 5
}
