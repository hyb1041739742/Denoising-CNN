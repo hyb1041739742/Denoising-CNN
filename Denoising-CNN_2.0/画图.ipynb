{
 "cells": [
  {
   "cell_type": "code",
   "execution_count": 3,
   "id": "11de0b02-2b94-4501-89e8-ff5d0ba40263",
   "metadata": {},
   "outputs": [],
   "source": [
    "import os"
   ]
  },
  {
   "cell_type": "code",
   "execution_count": 10,
   "id": "4c1c10b6-5f04-4394-9fd6-eff34cf8bb72",
   "metadata": {},
   "outputs": [],
   "source": [
    "path = r'C:\\Users\\bbfss\\Desktop\\file\\Code\\github\\Denoising-CNN\\Denoising-CNN_2.0\\实验数据保存\\论文图像数据'\n",
    "title = \"{}.txt\".format(\"\")\n",
    "with open(os.path.join(path,title),\"w\") as f:\n",
    "    f.write(\"{:.6f}\\n\".format(1)) #这句话⾃带⽂件关闭功能，不需要再写f.close()\n",
    "    f.write(\"{:.6f}\\n\".format(1)) #这句话⾃带⽂件关闭功能，不需要再写f.close()\n"
   ]
  },
  {
   "cell_type": "code",
   "execution_count": null,
   "id": "ea29cb10-ddc8-4910-8138-d0807524f176",
   "metadata": {},
   "outputs": [],
   "source": []
  }
 ],
 "metadata": {
  "kernelspec": {
   "display_name": "Python 3 (ipykernel)",
   "language": "python",
   "name": "python3"
  },
  "language_info": {
   "codemirror_mode": {
    "name": "ipython",
    "version": 3
   },
   "file_extension": ".py",
   "mimetype": "text/x-python",
   "name": "python",
   "nbconvert_exporter": "python",
   "pygments_lexer": "ipython3",
   "version": "3.9.7"
  }
 },
 "nbformat": 4,
 "nbformat_minor": 5
}
