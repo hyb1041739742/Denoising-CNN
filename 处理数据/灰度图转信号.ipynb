{
 "cells": [
  {
   "cell_type": "code",
   "execution_count": 1,
   "id": "fd57ee1b-977f-40b2-8621-860f37be3829",
   "metadata": {},
   "outputs": [],
   "source": [
    "# -*- coding: utf-8 -*-\n",
    "import os\n",
    "from matplotlib import pyplot as plt\n",
    "from PIL import Image\n",
    "from pylab import *\n",
    "import numpy as np\n",
    "from sklearn.preprocessing import MinMaxScaler"
   ]
  },
  {
   "cell_type": "code",
   "execution_count": 2,
   "id": "6ee2ca75-cd20-4b7e-a023-fd0e66e996e4",
   "metadata": {},
   "outputs": [],
   "source": [
    "def get_min_max_scaler(train_path):\n",
    "    files = os.listdir(train_path)  # 得到文件夹下的所有文件名称\n",
    "    s = []\n",
    "    for file in files:  # 遍历文件夹\n",
    "        if not os.path.isdir(file):  # 判断是否是文件夹，不是文件夹才打开\n",
    "            f = open(train_path + \"/\" + file);  # 打开文件\n",
    "            iter_f = iter(f);  # 创建迭代器\n",
    "            str1 = \"\"\n",
    "            for line in iter_f:  # 遍历文件，一行行遍历，读取文本\n",
    "                str1 = str1 + line\n",
    "            s.append(str1)  # 每个文件的文本存到list中\n",
    "    a = []\n",
    "    for x in s:\n",
    "        l = []\n",
    "        for i in x.split('\\n'):\n",
    "            if i == '':\n",
    "                continue;\n",
    "            l.append(float(i))  # 必须和信号转化灰度图同步\n",
    "        a.append(np.array(l[:-1]))\n",
    "    min_max_scaler = MinMaxScaler(feature_range=(0, 1))\n",
    "    a = min_max_scaler.fit_transform(a)\n",
    "    return min_max_scaler"
   ]
  },
  {
   "cell_type": "code",
   "execution_count": 3,
   "id": "6c055a0a-c64c-430e-a5c0-a2f803416273",
   "metadata": {},
   "outputs": [],
   "source": [
    "#读取图片并转为数组\n",
    "def addImage(image_list, path, count, min_max_scaler):\n",
    "    image = []\n",
    "    im = array(Image.open(path + str(count) + \".bmp\"))  \n",
    "    for i in range(40):\n",
    "        for j in range(50):\n",
    "            image.append(im[i][j][1]/255)\n",
    "    image_list.append(image)\n",
    "    return image_list"
   ]
  },
  {
   "cell_type": "code",
   "execution_count": 6,
   "id": "047f140d-2105-433d-af77-77f28d71ec99",
   "metadata": {},
   "outputs": [
    {
     "data": {
      "image/png": "[encoded data removed]",
      "text/plain": [
       "<Figure size 432x288 with 5 Axes>"
      ]
     },
     "metadata": {
      "needs_background": "light"
     },
     "output_type": "display_data"
    }
   ],
   "source": [
    "DUDnCNN_path = \"C:/Users/bbfss/Desktop/Code/github/Denoising-CNN/dataset/结果集/DUDnCNN结果集/\"\n",
    "DncNN_path = \"C:/Users/bbfss/Desktop/Code/github/Denoising-CNN/dataset/结果集/DncNN结果集/\"\n",
    "UDncNN_path = \"C:/Users/bbfss/Desktop/Code/github/Denoising-CNN/dataset/结果集/UDncNN结果集/\"\n",
    "clean_path = \"C:/Users/bbfss/Desktop/Code/github/Denoising-CNN/dataset/结果集/干净图像结果集/\"\n",
    "noisy_path = \"C:/Users/bbfss/Desktop/Code/github/Denoising-CNN/dataset/结果集/加噪图像结果集/\"\n",
    "train_path = \"C:/Users/bbfss/Desktop/Code/github/Denoising-CNN/dataset/干净信号txt\"\n",
    "min_max_scaler = get_min_max_scaler(train_path) # 获得归一化的构造器,用于还原\n",
    "\n",
    "\n",
    "count = 4\n",
    "image_list = []\n",
    "image_list = addImage(image_list, clean_path, count, min_max_scaler)\n",
    "image_list = addImage(image_list, noisy_path, count, min_max_scaler)\n",
    "image_list = addImage(image_list, DUDnCNN_path, count, min_max_scaler)\n",
    "image_list = addImage(image_list, DncNN_path, count, min_max_scaler)\n",
    "image_list = addImage(image_list, UDncNN_path, count, min_max_scaler)\n",
    "\n",
    "# print(np.array(image_list).shape)\n",
    "image_list = min_max_scaler.inverse_transform(image_list)\n",
    "\n",
    "\n",
    "\n",
    "\n",
    "\n",
    "plt.subplot(3, 2, 1)\n",
    "plt.title('clean')\n",
    "plt.plot(image_list[0])\n",
    "\n",
    "plt.subplot(3, 2, 2)\n",
    "plt.title('noisy')\n",
    "plt.plot(image_list[1])\n",
    "\n",
    "plt.subplot(3, 2, 3)\n",
    "plt.title('DUDnCNN')\n",
    "plt.plot(image_list[2])\n",
    "\n",
    "plt.subplot(3, 2, 4)\n",
    "plt.title('DncNN')\n",
    "plt.plot(image_list[3])\n",
    "\n",
    "plt.subplot(3, 2, 5)\n",
    "plt.title('UDncNN')\n",
    "plt.plot(image_list[4])\n",
    "plt.tight_layout()\n"
   ]
  },
  {
   "cell_type": "code",
   "execution_count": null,
   "id": "53630887-0213-419a-a949-4075e73d5723",
   "metadata": {},
   "outputs": [],
   "source": []
  }
 ],
 "metadata": {
  "kernelspec": {
   "display_name": "Python 3 (ipykernel)",
   "language": "python",
   "name": "python3"
  },
  "language_info": {
   "codemirror_mode": {
    "name": "ipython",
    "version": 3
   },
   "file_extension": ".py",
   "mimetype": "text/x-python",
   "name": "python",
   "nbconvert_exporter": "python",
   "pygments_lexer": "ipython3",
   "version": "3.9.7"
  }
 },
 "nbformat": 4,
 "nbformat_minor": 5
}
