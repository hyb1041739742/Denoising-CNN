{
 "cells": [
  {
   "cell_type": "code",
   "execution_count": 26,
   "id": "a9482747-1963-4569-941e-bfb612f5ba66",
   "metadata": {},
   "outputs": [],
   "source": [
    "import torch\n",
    "import PIL\n",
    "import os\n",
    "import numpy as np\n",
    "from PIL import Image\n",
    "from matplotlib import pyplot as plt\n",
    "from sklearn.preprocessing import MinMaxScaler"
   ]
  },
  {
   "cell_type": "code",
   "execution_count": 27,
   "id": "15f4673a-d02d-45ed-9408-c2b958e3328f",
   "metadata": {},
   "outputs": [],
   "source": [
    "path = r\"C:\\Users\\bbfss\\Desktop\\Code\\github\\Denoising-CNN\\dataset\\干净信号txt\"  # 干净文件夹目录\n",
    "# path = r\"C:\\Users\\bbfss\\Desktop\\Code\\github\\Denoising-CNN\\dataset\\带噪信号txt\"  # 带噪文件夹目录\n",
    "files = os.listdir(path)  # 得到文件夹下的所有文件名称\n",
    "s = []\n",
    "count = 0\n",
    "for file in files:  # 遍历文件夹\n",
    "    if not os.path.isdir(file):  # 判断是否是文件夹，不是文件夹才打开\n",
    "        f = open(path + \"/\" + file);  # 打开文件\n",
    "        iter_f = iter(f);  # 创建迭代器\n",
    "        str1 = \"\"\n",
    "        for line in iter_f:  # 遍历文件，一行行遍历，读取文本\n",
    "            str1 = str1 + line\n",
    "        s.append(str1)  # 每个文件的文本存到list中"
   ]
  },
  {
   "cell_type": "code",
   "execution_count": 28,
   "id": "5406ac6f-2c4d-4270-836b-8fc8117f7b49",
   "metadata": {},
   "outputs": [
    {
     "name": "stdout",
     "output_type": "stream",
     "text": [
      "1.92893887\n"
     ]
    }
   ],
   "source": [
    "a = []\n",
    "for x in s:\n",
    "    l = []\n",
    "    for i in x.split('\\n'):\n",
    "        if i == '':\n",
    "            continue;\n",
    "        l.append(float(i))  # !!!!!为了防止失去精度\n",
    "    a.append(np.array(l))\n",
    "print(np.max(a))"
   ]
  },
  {
   "cell_type": "code",
   "execution_count": 29,
   "id": "4735cc57-8aab-4ca0-a7e3-a2570c39f5a7",
   "metadata": {},
   "outputs": [
    {
     "name": "stdout",
     "output_type": "stream",
     "text": [
      "[0.         0.         0.         ... 0.00023251 0.00020236 0.00013161]\n",
      "[ 0.0000e+00  0.0000e+00  0.0000e+00 ... -3.4157e-04 -1.9524e-04\n",
      " -1.8890e-05]\n"
     ]
    }
   ],
   "source": [
    "print(a[0])\n",
    "print(a[1])\n",
    "\n",
    "# 归一化操作， 可以使用MinMaxScaler()中的inverse_transform方法还原\n",
    "min_max_scaler = MinMaxScaler(feature_range=(0, 1))\n",
    "a = min_max_scaler.fit_transform(a)\n"
   ]
  },
  {
   "cell_type": "code",
   "execution_count": 30,
   "id": "36aa89cf-2723-4a67-902e-f4d33a37a73d",
   "metadata": {
    "tags": []
   },
   "outputs": [
    {
     "name": "stdout",
     "output_type": "stream",
     "text": [
      "[[0.         0.         0.         ... 0.         0.         0.        ]\n",
      " [0.         0.         0.         ... 0.         0.         0.        ]\n",
      " [0.         0.         0.         ... 0.         0.         0.        ]\n",
      " ...\n",
      " [0.56299502 0.54021132 0.51279208 ... 0.4194217  0.42035687 0.41556479]\n",
      " [0.4151561  0.41557207 0.41507304 ... 0.40631359 0.40765515 0.40289452]\n",
      " [0.40402757 0.40451505 0.39934996 ... 0.53457563 0.59436787 0.67039501]]\n",
      "[[0.         0.         0.         ... 0.         0.         0.        ]\n",
      " [0.         0.         0.         ... 0.         0.         0.        ]\n",
      " [0.         0.         0.         ... 0.         0.         0.        ]\n",
      " ...\n",
      " [0.56456462 0.54287245 0.51615066 ... 0.41469711 0.41641919 0.41303154]\n",
      " [0.41442654 0.4164555  0.4171134  ... 0.40130684 0.40348743 0.4000635 ]\n",
      " [0.40277804 0.40474394 0.40078423 ... 0.5311468  0.59093989 0.66767671]]\n"
     ]
    }
   ],
   "source": [
    "ph = []\n",
    "for x in a:\n",
    "    photo = np.zeros((1, 2000))\n",
    "    #     photo[256][:][0]=x\n",
    "    for i in range(2000):\n",
    "        photo[0][i] = x[i]\n",
    "    ph.append(photo.reshape(40, 50))\n",
    "print(ph[0])\n",
    "print(ph[1])"
   ]
  },
  {
   "cell_type": "code",
   "execution_count": 31,
   "id": "604cf176-d313-4d59-816e-632489080339",
   "metadata": {},
   "outputs": [],
   "source": [
    "path = \"C:/Users/bbfss/Desktop/Code/github/Denoising-CNN/dataset/干净灰度图/\"\n",
    "# path = \"C:/Users/bbfss/Desktop/Code/github/Denoising-CNN/dataset/带噪灰度图/\"\n",
    "count = 0\n",
    "for x in ph:\n",
    "    count += 1\n",
    "    new_im = Image.fromarray(x * 255.0)  # 实现array转化成图像\n",
    "    num = str(count)\n",
    "    new_im = new_im.convert('L')  # 将图像转化成灰度图\n",
    "    new_im.save(path + 'train/img' + num + '.bmp')"
   ]
  },
  {
   "cell_type": "code",
   "execution_count": null,
   "id": "1852581c-4c1b-4c92-8153-821f002f1433",
   "metadata": {},
   "outputs": [],
   "source": []
  }
 ],
 "metadata": {
  "kernelspec": {
   "display_name": "Python 3 (ipykernel)",
   "language": "python",
   "name": "python3"
  },
  "language_info": {
   "codemirror_mode": {
    "name": "ipython",
    "version": 3
   },
   "file_extension": ".py",
   "mimetype": "text/x-python",
   "name": "python",
   "nbconvert_exporter": "python",
   "pygments_lexer": "ipython3",
   "version": "3.9.7"
  }
 },
 "nbformat": 4,
 "nbformat_minor": 5
}
