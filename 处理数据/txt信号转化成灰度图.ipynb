{
 "cells": [
  {
   "cell_type": "code",
   "execution_count": 1,
   "id": "a9482747-1963-4569-941e-bfb612f5ba66",
   "metadata": {},
   "outputs": [],
   "source": [
    "import torch\n",
    "import PIL\n",
    "import os\n",
    "import numpy as np\n",
    "from PIL import Image\n",
    "from sklearn.preprocessing import MinMaxScaler"
   ]
  },
  {
   "cell_type": "code",
   "execution_count": null,
   "id": "15f4673a-d02d-45ed-9408-c2b958e3328f",
   "metadata": {},
   "outputs": [
    {
     "name": "stderr",
     "output_type": "stream",
     "text": [
      "IOPub data rate exceeded.\n",
      "The Jupyter server will temporarily stop sending output\n",
      "to the client in order to avoid crashing it.\n",
      "To change this limit, set the config variable\n",
      "`--ServerApp.iopub_data_rate_limit`.\n",
      "\n",
      "Current values:\n",
      "ServerApp.iopub_data_rate_limit=1000000.0 (bytes/sec)\n",
      "ServerApp.rate_limit_window=3.0 (secs)\n",
      "\n"
     ]
    }
   ],
   "source": [
    "path = r\"C:\\Users\\bbfss\\Desktop\\Code\\github\\Denoising-CNN\\dataset\\干净信号txt\"  # 干净文件夹目录\n",
    "# path = r\"C:\\Users\\bbfss\\Desktop\\Code\\github\\Denoising-CNN\\dataset\\带噪信号txt\"  # 带噪文件夹目录\n",
    "files = os.listdir(path)  # 得到文件夹下的所有文件名称\n",
    "s = []\n",
    "for file in files:  # 遍历文件夹\n",
    "    if not os.path.isdir(file):  # 判断是否是文件夹，不是文件夹才打开\n",
    "        f = open(path + \"/\" + file);  # 打开文件\n",
    "        iter_f = iter(f);  # 创建迭代器\n",
    "        str1 = \"\"\n",
    "        for line in iter_f:  # 遍历文件，一行行遍历，读取文本\n",
    "            str1 = str1 + line\n",
    "        s.append(str1)  # 每个文件的文本存到list中\n",
    "print(s)  # 打印结果"
   ]
  },
  {
   "cell_type": "code",
   "execution_count": 3,
   "id": "5406ac6f-2c4d-4270-836b-8fc8117f7b49",
   "metadata": {},
   "outputs": [],
   "source": [
    "a = []\n",
    "for x in s:\n",
    "    l = []\n",
    "    for i in x.split('\\n'):\n",
    "        if i == '':\n",
    "            continue;\n",
    "        l.append(float(i))\n",
    "    a.append(np.array(l))"
   ]
  },
  {
   "cell_type": "code",
   "execution_count": 8,
   "id": "4735cc57-8aab-4ca0-a7e3-a2570c39f5a7",
   "metadata": {},
   "outputs": [],
   "source": [
    "# 归一化操作， 可以使用MinMaxScaler()中的inverse_transform方法还原\n",
    "min_max_scaler = MinMaxScaler()\n",
    "a = min_max_scaler.fit_transform(a)"
   ]
  },
  {
   "cell_type": "code",
   "execution_count": 10,
   "id": "36aa89cf-2723-4a67-902e-f4d33a37a73d",
   "metadata": {},
   "outputs": [],
   "source": [
    "ph = []\n",
    "for x in a:\n",
    "    photo = np.zeros((1, 2000))\n",
    "    #     photo[256][:][0]=x\n",
    "    for i in range(2000):\n",
    "        photo[0][i] = x[i]\n",
    "    ph.append(photo.reshape(40, 50))"
   ]
  },
  {
   "cell_type": "code",
   "execution_count": null,
   "id": "d5ee1356-b9be-42ad-806d-dbd06b15d394",
   "metadata": {},
   "outputs": [],
   "source": [
    "ph = []\n",
    "for x in a:\n",
    "    photo = np.zeros((1, 2000))\n",
    "    #     photo[256][:][0]=x\n",
    "    for i in range(2000):\n",
    "        photo[0][i] = x[i]\n",
    "    ph.append(photo.reshape(40, 50))"
   ]
  },
  {
   "cell_type": "code",
   "execution_count": null,
   "id": "604cf176-d313-4d59-816e-632489080339",
   "metadata": {},
   "outputs": [],
   "source": [
    "path = \"C:/Users/bbfss/Desktop/Code/github/Denoising-CNN/dataset/干净灰度图/\"\n",
    "# path = \"C:/Users/bbfss/Desktop/Code/github/Denoising-CNN/dataset/带噪灰度图/\"\n",
    "count = 0\n",
    "for x in ph:\n",
    "    count += 1\n",
    "    new_im = Image.fromarray(x * 255.0)  # 实现array转化成图像\n",
    "    num = str(count)\n",
    "    new_im = new_im.convert('L')  # 将图像转化成灰度图\n",
    "    new_im.save(path + 'train/img' + num + '.bmp')"
   ]
  }
 ],
 "metadata": {
  "kernelspec": {
   "display_name": "Python 3 (ipykernel)",
   "language": "python",
   "name": "python3"
  },
  "language_info": {
   "codemirror_mode": {
    "name": "ipython",
    "version": 3
   },
   "file_extension": ".py",
   "mimetype": "text/x-python",
   "name": "python",
   "nbconvert_exporter": "python",
   "pygments_lexer": "ipython3",
   "version": "3.9.7"
  }
 },
 "nbformat": 4,
 "nbformat_minor": 5
}
